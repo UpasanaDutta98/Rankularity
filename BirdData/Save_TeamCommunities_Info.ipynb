{
 "cells": [
  {
   "cell_type": "code",
   "execution_count": 1,
   "metadata": {},
   "outputs": [],
   "source": [
    "import pandas as pd\n",
    "import pickle"
   ]
  },
  {
   "cell_type": "code",
   "execution_count": 4,
   "metadata": {},
   "outputs": [],
   "source": [
    "def build_csv():\n",
    "    question_csv = pd.DataFrame()\n",
    "    graph_and_hashes_path = \"Rankularity_output/graph_and_hashes.pkl\"\n",
    "    pickle_in = open(graph_and_hashes_path,\"rb\")\n",
    "    graph_and_hashes = pickle.load(pickle_in)\n",
    "    node_hashMap = graph_and_hashes[2]\n",
    "    #print(node_hashMap)\n",
    "    nodeid_column = []\n",
    "    for i in range(len(node_hashMap)):\n",
    "        nodeid_column.append(node_hashMap[i])\n",
    "    #print(nodeid_column)\n",
    "    question_csv[\"Species\"] = nodeid_column\n",
    "\n",
    "    node_division_path = \"Rankularity_output/node_division.pkl\"\n",
    "    pickle_in = open(node_division_path,\"rb\")\n",
    "    node_division = pickle.load(pickle_in)\n",
    "    alpha = 0.6\n",
    "    i = 0\n",
    "    while alpha <= 0.6:\n",
    "        node_division_for_given_alpha = node_division[i]\n",
    "        #print(i)\n",
    "        i+=1\n",
    "        node_community_dict = {} # This will store real ID as key and community number as value, for a given alpha.\n",
    "        for j in range(1,5):\n",
    "            for each_villager_number in node_division_for_given_alpha[j]:\n",
    "                node_community_dict[node_hashMap[each_villager_number]] = j\n",
    "\n",
    "        column_values_for_given_alpha = []\n",
    "        for nodeid in nodeid_column:\n",
    "            column_values_for_given_alpha.append(node_community_dict[nodeid])\n",
    "\n",
    "        question_csv[str(alpha)] = column_values_for_given_alpha\n",
    "\n",
    "        alpha += 0.1\n",
    "        alpha = round(alpha, 1)\n",
    "\n",
    "    question_csv.to_csv(\"Rankularity_output/CommunityDivision_Info_Weighted.csv\", index=False)"
   ]
  },
  {
   "cell_type": "code",
   "execution_count": 5,
   "metadata": {},
   "outputs": [],
   "source": [
    "build_csv()"
   ]
  },
  {
   "cell_type": "code",
   "execution_count": null,
   "metadata": {},
   "outputs": [],
   "source": []
  }
 ],
 "metadata": {
  "kernelspec": {
   "display_name": "Python 3",
   "language": "python",
   "name": "python3"
  },
  "language_info": {
   "codemirror_mode": {
    "name": "ipython",
    "version": 3
   },
   "file_extension": ".py",
   "mimetype": "text/x-python",
   "name": "python",
   "nbconvert_exporter": "python",
   "pygments_lexer": "ipython3",
   "version": "3.8.5"
  }
 },
 "nbformat": 4,
 "nbformat_minor": 2
}
